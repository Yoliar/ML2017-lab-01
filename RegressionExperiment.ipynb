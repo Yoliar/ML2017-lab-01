{
 "cells": [
  {
   "cell_type": "markdown",
   "metadata": {},
   "source": [
    "# Linear Regression and Gradient Descent"
   ]
  },
  {
   "cell_type": "code",
   "execution_count": 3,
   "metadata": {},
   "outputs": [
    {
     "data": {
      "image/png": "[encoded data removed]",
      "text/plain": [
       "<matplotlib.figure.Figure at 0x2355410>"
      ]
     },
     "metadata": {},
     "output_type": "display_data"
    }
   ],
   "source": [
    "import numpy as np\n",
    "from sklearn.datasets import load_svmlight_file\n",
    "from sklearn.model_selection import train_test_split\n",
    "import matplotlib.pyplot as plt\n",
    "%matplotlib inline\n",
    "\n",
    "#compute the cost\n",
    "def compute_cost(x,y,theta):\n",
    "    m = shape(x)[0]\n",
    "    pred = dot(x,theta)\n",
    "    cost = dot((pred-y).T,(pred-y))/(2*m)\n",
    "    return cost\n",
    "#training process\n",
    "def gradient_descent(x_train,y_train,x_validation,y_validation,initial_theta,learning_rate,num_iterations):\n",
    "    index_y_train = zeros(num_iterations)\n",
    "    index_y_validation = zeros(num_iterations)\n",
    "    m = shape(x_train)[0]\n",
    "    theta = initial_theta\n",
    "    for i in range(num_iterations):\n",
    "        #calculate the gradient\n",
    "        pred = dot(x_train,theta)\n",
    "        theta_gradient = dot(x_train.transpose(),(pred-y_train))/m\n",
    "        theta = theta - learning_rate*theta_gradient\n",
    "        index_y_train[i] = compute_cost(x_train,y_train,theta)\n",
    "        index_y_validation[i] = compute_cost(x_validation,y_validation,theta)\n",
    "    #draw\n",
    "    plot1,  = plt.plot(np.arange(0, num_iterations), index_y_train, 'r', label='L_train')\n",
    "    plot2,  = plt.plot(np.arange(0, num_iterations), index_y_validation, 'b', label='L_validation')\n",
    "    plt.title('Loss')\n",
    "    plt.xlabel('Iteration')\n",
    "    plt.ylabel('Loss')\n",
    "    plt.legend([plot1, plot2], ['L_train', 'L_validation'])\n",
    "    plt.show()\n",
    "    return theta\n",
    "#load data\n",
    "def main():\n",
    "    n = 13\n",
    "    m = 506\n",
    "    learning_rate = 0.1\n",
    "    num_iterations = 800\n",
    "    initial_theta = zeros(shape = (n+1,1))\n",
    "    x, y = load_svmlight_file(\"housing_scale.txt\")\n",
    "    x = x.toarray()\n",
    "    x = x.reshape((m,n))\n",
    "    y = y.reshape((m,1))\n",
    "    x = append(ones([m,1]),x,1)\n",
    "    x_train, x_validation, y_train, y_validation = train_test_split(x, y, test_size=0.25, random_state=42)\n",
    "    theta = gradient_descent(x_train,y_train,x_validation,y_validation,initial_theta,learning_rate,num_iterations)\n",
    "# Execute main() only when this script is executed from the command line\n",
    "if __name__ == \"__main__\":\n",
    "    main()"
   ]
  },
  {
   "cell_type": "code",
   "execution_count": null,
   "metadata": {
    "collapsed": true
   },
   "outputs": [],
   "source": []
  }
 ],
 "metadata": {
  "kernelspec": {
   "display_name": "Python 3",
   "language": "python",
   "name": "python3"
  },
  "language_info": {
   "codemirror_mode": {
    "name": "ipython",
    "version": 3
   },
   "file_extension": ".py",
   "mimetype": "text/x-python",
   "name": "python",
   "nbconvert_exporter": "python",
   "pygments_lexer": "ipython3",
   "version": "3.6.3"
  }
 },
 "nbformat": 4,
 "nbformat_minor": 2
}
