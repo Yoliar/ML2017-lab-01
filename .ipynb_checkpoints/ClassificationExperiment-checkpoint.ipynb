{
 "cells": [
  {
   "cell_type": "markdown",
   "metadata": {},
   "source": [
    "# Linear Classification and Gradient Descent"
   ]
  },
  {
   "cell_type": "code",
   "execution_count": 2,
   "metadata": {},
   "outputs": [
    {
     "data": {
      "image/png": "[encoded data removed]",
      "text/plain": [
       "<matplotlib.figure.Figure at 0x7663d10>"
      ]
     },
     "metadata": {},
     "output_type": "display_data"
    },
    {
     "data": {
      "image/png": "[encoded data removed]",
      "text/plain": [
       "<matplotlib.figure.Figure at 0x7a4dc90>"
      ]
     },
     "metadata": {},
     "output_type": "display_data"
    }
   ],
   "source": [
    "import numpy as np\n",
    "import matplotlib.pyplot as plt\n",
    "from numpy import random\n",
    "from sklearn.externals.joblib import Memory\n",
    "from sklearn.datasets import load_svmlight_file\n",
    "from sklearn.model_selection import train_test_split\n",
    "%matplotlib inline\n",
    "\n",
    "#load data\n",
    "def get_data(path):\n",
    "    data = load_svmlight_file(path)\n",
    "    return data[0], data[1]\n",
    "\n",
    "#calculate the loss\n",
    "def cal_Loss(X,W,y,lambdal,W_0):\n",
    "    preY = np.dot(X,W)\n",
    "    diifY = np.ones(y.shape[0]) - y * preY\n",
    "    diifY[diifY < 0] =0\n",
    "    Loss =np.sum(diifY) / X.shape[0] + np.dot(W_0,W_0.T)/2*lambdal\n",
    "    return Loss\n",
    "\n",
    "#calculate the gradient\n",
    "def cal_G(X,W,y,lambdal,W_0):\n",
    "    preY = np.dot(X,W)\n",
    "    diifY = np.ones(y.shape[0]) - y * preY\n",
    "    y_get = y.copy()\n",
    "    y_get[diifY <= 0] =0\n",
    "    G = -np.dot(y_get,X) / X.shape[0] + W_0 *lambdal\n",
    "    return G\n",
    "\n",
    "#calculate the accuracy\n",
    "def cal_Accuracy(X,W,y):\n",
    "    preY = np.dot(X,W)\n",
    "    count = np.sum(preY * y >0)\n",
    "    Accuracy = count / X.shape[0]\n",
    "    return Accuracy\n",
    "\n",
    "def main():\n",
    "    #load data\n",
    "    path = './australian_scale.txt'\n",
    "    X, y = get_data(path)\n",
    "    X = X.toarray()\n",
    "    #y = W^T *X + b -> y = W_extend^T * [X,1]\n",
    "    column = np.ones((X.shape[0]))\n",
    "    X = np.column_stack((X,column))\n",
    "    #print(X.shape)\n",
    "    #print(y.shape)\n",
    "    \n",
    "    #split data\n",
    "    X_train, X_validation, y_train, y_validation = train_test_split(X, y, test_size=0.2, random_state=24)\n",
    "    #m, n = x_train.shape()\n",
    "    N=X_train.shape[1]\n",
    "    W_zeros = np.zeros(N)\n",
    "    \n",
    "    lr = 0.1\n",
    "    iteration = 400 \n",
    "    lambdal = 0.5\n",
    "    \n",
    "    #get different kinds of initial data\n",
    "    W = W_zeros\n",
    "    \n",
    "    Loss_train = np.zeros(iteration)\n",
    "    Loss_validation = np.zeros(iteration)\n",
    "    accuracy_train = np.zeros(iteration)\n",
    "    accuracy_validation = np.zeros(iteration)\n",
    "    for j in range(0,iteration):\n",
    "        W_0 = W.copy()\n",
    "        W_0[N-1]= 0\n",
    "        #the training loss\n",
    "        Loss_train[j] = cal_Loss(X_train,W,y_train,lambdal,W_0)\n",
    "        #the gradient of the loss function\n",
    "        G = cal_G(X_train,W,y_train,lambdal,W_0)\n",
    "        #the validation loss\n",
    "        Loss_validation[j] = cal_Loss(X_validation,W,y_validation,lambdal,W_0)\n",
    "        #accuracy\n",
    "        accuracy_train[j] = cal_Accuracy(X_train,W,y_train)\n",
    "        accuracy_validation[j] = cal_Accuracy(X_validation,W,y_validation)\n",
    "        #update the parameter W\n",
    "        W = W - G * lr\n",
    "    #draw the result\n",
    "    #loss\n",
    "    plt.figure(1)\n",
    "    plot1,  = plt.plot(np.arange(0, iteration), Loss_train, 'r', label='L_train')\n",
    "    plot2,  = plt.plot(np.arange(0, iteration), Loss_validation, 'b', label='L_validation')\n",
    "    plt.title('Loss')\n",
    "    plt.xlabel('Iteration')\n",
    "    plt.ylabel('Loss')\n",
    "    plt.legend([plot1, plot2], ['L_train', 'L_validation'])\n",
    "    plt.show()\n",
    "    #accuracy\n",
    "    plt.figure(2)\n",
    "    plot1, = plt.plot(np.arange(0, iteration), accuracy_train, 'r', label='accuracy_train')\n",
    "    plot2, = plt.plot(np.arange(0, iteration), accuracy_validation, 'b', label='accuracy_validation')\n",
    "    plt.title('accuracy')\n",
    "    plt.xlabel('Iteration')\n",
    "    plt.ylabel('accuracy')\n",
    "    plt.legend([plot1, plot2], ['accuracy_train', 'accuracy_validation'])\n",
    "    plt.show()\n",
    "# Execute main() only when this script is executed from the command line\n",
    "if __name__ == \"__main__\":\n",
    "    main()"
   ]
  },
  {
   "cell_type": "code",
   "execution_count": null,
   "metadata": {
    "collapsed": true
   },
   "outputs": [],
   "source": []
  }
 ],
 "metadata": {
  "kernelspec": {
   "display_name": "Python 3",
   "language": "python",
   "name": "python3"
  },
  "language_info": {
   "codemirror_mode": {
    "name": "ipython",
    "version": 3
   },
   "file_extension": ".py",
   "mimetype": "text/x-python",
   "name": "python",
   "nbconvert_exporter": "python",
   "pygments_lexer": "ipython3",
   "version": "3.6.3"
  }
 },
 "nbformat": 4,
 "nbformat_minor": 2
}
